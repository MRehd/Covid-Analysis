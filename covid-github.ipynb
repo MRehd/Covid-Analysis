{
 "cells": [
  {
   "cell_type": "markdown",
   "metadata": {},
   "source": [
    "# Sources\n",
    "\n",
    "https://data.europa.eu/euodp/en/data/dataset/covid-19-coronavirus-data/resource/260bbbde-2316-40eb-aec3-7cd7bfc2f590\n",
    "\n",
    "https://data.worldbank.org/indicator/SI.POV.GINI\n",
    "\n",
    "https://data.worldbank.org/indicator/NY.GDP.PCAP.PP.CD\n",
    "\n",
    "https://population.un.org/wpp/Download/Standard/CSV/"
   ]
  },
  {
   "cell_type": "code",
   "execution_count": 3,
   "metadata": {},
   "outputs": [],
   "source": [
    "#Importing the necessary libraries\n",
    "\n",
    "import pandas as pd\n",
    "import numpy as np\n",
    "import matplotlib.pyplot as plt"
   ]
  },
  {
   "cell_type": "code",
   "execution_count": 4,
   "metadata": {},
   "outputs": [],
   "source": [
    "#Importing the data\n",
    "\n",
    "GDP = pd.read_csv('./gdp-per-capita-worldbank.csv', sep=',')\n",
    "Population = pd.read_csv('./populationbysex.csv', sep=',')\n",
    "Covid = pd.read_csv('./covid-june.csv', sep=',')\n",
    "gini = pd.read_csv('./gini.csv', sep=',')"
   ]
  },
  {
   "cell_type": "code",
   "execution_count": 5,
   "metadata": {},
   "outputs": [],
   "source": [
    "#Cleaning and preparing the data"
   ]
  },
  {
   "cell_type": "code",
   "execution_count": 6,
   "metadata": {},
   "outputs": [],
   "source": [
    "GDP.insert(1, 'Country', GDP['Entity'])\n",
    "del GDP['Entity']"
   ]
  },
  {
   "cell_type": "code",
   "execution_count": 7,
   "metadata": {},
   "outputs": [],
   "source": [
    "GDP.rename(columns = {'GDP per capita (int.-$) (constant 2011 international $)':'GDP/capita'}, inplace=True)"
   ]
  },
  {
   "cell_type": "code",
   "execution_count": 8,
   "metadata": {},
   "outputs": [],
   "source": [
    "Population.insert(2, 'Country', Population['Location'])\n",
    "del Population['Location']"
   ]
  },
  {
   "cell_type": "code",
   "execution_count": 9,
   "metadata": {},
   "outputs": [],
   "source": [
    "Population.rename(columns = {'Time':'Year'}, inplace=True)"
   ]
  },
  {
   "cell_type": "code",
   "execution_count": 10,
   "metadata": {},
   "outputs": [],
   "source": [
    "del GDP['Code']"
   ]
  },
  {
   "cell_type": "code",
   "execution_count": 11,
   "metadata": {},
   "outputs": [],
   "source": [
    "Population.drop(Population.columns.difference(['Country','Year', 'PopMale', 'PopFemale', 'PopTotal']), 1, inplace=True)"
   ]
  },
  {
   "cell_type": "code",
   "execution_count": 12,
   "metadata": {},
   "outputs": [
    {
     "name": "stdout",
     "output_type": "stream",
     "text": [
      "Pop:  2100 GDP:  2017\n"
     ]
    }
   ],
   "source": [
    "#Selecting the latest population data\n",
    "\n",
    "print('Pop: ', Population['Year'].max(), 'GDP: ', GDP['Year'].max())"
   ]
  },
  {
   "cell_type": "code",
   "execution_count": 13,
   "metadata": {},
   "outputs": [],
   "source": [
    "Population['Year'] = Population['Year'].astype(str)\n",
    "Pop_2017 = Population['Year'].str.contains('2017')\n",
    "Latest_Pop = pd.DataFrame(Population[Pop_2017])"
   ]
  },
  {
   "cell_type": "code",
   "execution_count": 14,
   "metadata": {},
   "outputs": [],
   "source": [
    "GDP['Year'] = GDP['Year'].astype(str)\n",
    "GDP_2017 = GDP['Year'].str.contains('2017')\n",
    "Latest_GDP = pd.DataFrame(GDP[GDP_2017])"
   ]
  },
  {
   "cell_type": "code",
   "execution_count": 15,
   "metadata": {},
   "outputs": [],
   "source": [
    "Data = Latest_GDP.merge((Latest_Pop), on='Country', how='inner')"
   ]
  },
  {
   "cell_type": "code",
   "execution_count": 16,
   "metadata": {},
   "outputs": [],
   "source": [
    "del Data['Year_y']\n",
    "Data.rename(columns = {'Year_x':'Year'}, inplace=True)"
   ]
  },
  {
   "cell_type": "code",
   "execution_count": 17,
   "metadata": {},
   "outputs": [],
   "source": [
    "del Covid['year']\n",
    "del Covid['geoId']\n",
    "del Covid['popData2018']\n",
    "del Covid['day']\n",
    "del Covid['month']\n",
    "del Covid['dateRep']\n",
    "del Covid['countryterritoryCode']"
   ]
  },
  {
   "cell_type": "code",
   "execution_count": 18,
   "metadata": {},
   "outputs": [],
   "source": [
    "Covid.rename(columns = {'countriesAndTerritories':'Country'}, inplace=True)"
   ]
  },
  {
   "cell_type": "code",
   "execution_count": 19,
   "metadata": {},
   "outputs": [],
   "source": [
    "#The data displays the number of new cases and deaths per day, \n",
    "#so we need to sum all of the values and add them to new columns\n",
    "\n",
    "Covid['total_cases'] = ''\n",
    "Covid['total_deaths'] = ''\n",
    "for country in Covid['Country'].unique():\n",
    "    #each_country = Covid['Country'].str.contains(country)\n",
    "    cases_per_country = Covid.loc[Covid['Country']==country, 'cases'].sum()  \n",
    "    Covid.loc[Covid['Country']==country, 'total_cases'] = cases_per_country\n",
    "    \n",
    "    death_country = Covid.loc[Covid['Country']==country, 'deaths'].sum()\n",
    "    Covid.loc[Covid['Country']==country, 'total_deaths'] = death_country"
   ]
  },
  {
   "cell_type": "code",
   "execution_count": 20,
   "metadata": {},
   "outputs": [],
   "source": [
    "del Covid['cases']\n",
    "del Covid['deaths']"
   ]
  },
  {
   "cell_type": "code",
   "execution_count": 21,
   "metadata": {},
   "outputs": [],
   "source": [
    "Data = Data.merge(Covid, on='Country', how='inner')"
   ]
  },
  {
   "cell_type": "code",
   "execution_count": 22,
   "metadata": {},
   "outputs": [],
   "source": [
    "#The data will have many repeated rows as they had the cases and deaths per day, so we need to drop duplicates\n",
    "\n",
    "Data = Data.drop_duplicates(subset='Country')\n",
    "Data = Data.reset_index(drop=True)"
   ]
  },
  {
   "cell_type": "code",
   "execution_count": 23,
   "metadata": {},
   "outputs": [],
   "source": [
    "#Adding the USA to the dataframe\n",
    "#Each key is a column, and the panda series will set the rows \n",
    "usa_data = ['USA', 62795, 161480, 168080, 328200, 'America', 2016855, 112789]\n",
    "\n",
    "USA = {'Country': pd.Series('USA'),\n",
    "      'GDP/capita': pd.Series(62795),\n",
    "       'PopMale': pd.Series(161480),\n",
    "       'PopFemale': pd.Series(168080),\n",
    "       'PopTotal': pd.Series(328200),\n",
    "       'continentExp': pd.Series('America'),\n",
    "       'total_cases': pd.Series(2016855),\n",
    "       'total_deaths': pd.Series(112789)\n",
    "      }\n",
    "USA = pd.DataFrame(USA)"
   ]
  },
  {
   "cell_type": "code",
   "execution_count": 24,
   "metadata": {},
   "outputs": [],
   "source": [
    "Data = Data.append(USA, ignore_index=True)"
   ]
  },
  {
   "cell_type": "code",
   "execution_count": 25,
   "metadata": {},
   "outputs": [],
   "source": [
    "Data['mortality/country'] = Data['total_deaths']/Data['total_cases']\n",
    "Data['male_pop_percentage'] = Data['PopMale']/Data['PopTotal']"
   ]
  },
  {
   "cell_type": "code",
   "execution_count": 26,
   "metadata": {},
   "outputs": [],
   "source": [
    "del gini['cca2']\n",
    "del gini['pop2020']\n",
    "gini.rename(columns = {'name':'Country'}, inplace=True)"
   ]
  },
  {
   "cell_type": "code",
   "execution_count": 27,
   "metadata": {},
   "outputs": [
    {
     "data": {
      "text/html": [
       "<div>\n",
       "<style scoped>\n",
       "    .dataframe tbody tr th:only-of-type {\n",
       "        vertical-align: middle;\n",
       "    }\n",
       "\n",
       "    .dataframe tbody tr th {\n",
       "        vertical-align: top;\n",
       "    }\n",
       "\n",
       "    .dataframe thead th {\n",
       "        text-align: right;\n",
       "    }\n",
       "</style>\n",
       "<table border=\"1\" class=\"dataframe\">\n",
       "  <thead>\n",
       "    <tr style=\"text-align: right;\">\n",
       "      <th></th>\n",
       "      <th>Country</th>\n",
       "      <th>giniIndex</th>\n",
       "    </tr>\n",
       "  </thead>\n",
       "  <tbody>\n",
       "    <tr>\n",
       "      <th>37</th>\n",
       "      <td>United Kingdom</td>\n",
       "      <td>32.4</td>\n",
       "    </tr>\n",
       "    <tr>\n",
       "      <th>108</th>\n",
       "      <td>United States</td>\n",
       "      <td>45.0</td>\n",
       "    </tr>\n",
       "  </tbody>\n",
       "</table>\n",
       "</div>"
      ],
      "text/plain": [
       "            Country  giniIndex\n",
       "37   United Kingdom       32.4\n",
       "108   United States       45.0"
      ]
     },
     "execution_count": 27,
     "metadata": {},
     "output_type": "execute_result"
    }
   ],
   "source": [
    "usa_gini = gini['Country'].str.contains('United')\n",
    "gini[usa_gini]"
   ]
  },
  {
   "cell_type": "code",
   "execution_count": 28,
   "metadata": {},
   "outputs": [],
   "source": [
    "gini.at[108, 'Country'] = 'USA'"
   ]
  },
  {
   "cell_type": "code",
   "execution_count": 29,
   "metadata": {},
   "outputs": [],
   "source": [
    "Data = Data.merge(gini, on='Country', how='inner')\n",
    "Data.rename(columns = {'giniIndex_x':'gini index'}, inplace=True)"
   ]
  },
  {
   "cell_type": "code",
   "execution_count": 30,
   "metadata": {},
   "outputs": [
    {
     "data": {
      "text/html": [
       "<div>\n",
       "<style scoped>\n",
       "    .dataframe tbody tr th:only-of-type {\n",
       "        vertical-align: middle;\n",
       "    }\n",
       "\n",
       "    .dataframe tbody tr th {\n",
       "        vertical-align: top;\n",
       "    }\n",
       "\n",
       "    .dataframe thead th {\n",
       "        text-align: right;\n",
       "    }\n",
       "</style>\n",
       "<table border=\"1\" class=\"dataframe\">\n",
       "  <thead>\n",
       "    <tr style=\"text-align: right;\">\n",
       "      <th></th>\n",
       "      <th>Country</th>\n",
       "      <th>Year</th>\n",
       "      <th>GDP/capita</th>\n",
       "      <th>PopMale</th>\n",
       "      <th>PopFemale</th>\n",
       "      <th>PopTotal</th>\n",
       "      <th>continentExp</th>\n",
       "      <th>total_cases</th>\n",
       "      <th>total_deaths</th>\n",
       "      <th>mortality/country</th>\n",
       "      <th>male_pop_percentage</th>\n",
       "      <th>giniIndex</th>\n",
       "    </tr>\n",
       "  </thead>\n",
       "  <tbody>\n",
       "    <tr>\n",
       "      <th>110</th>\n",
       "      <td>USA</td>\n",
       "      <td>NaN</td>\n",
       "      <td>62795.0</td>\n",
       "      <td>161480.0</td>\n",
       "      <td>168080.0</td>\n",
       "      <td>328200.0</td>\n",
       "      <td>America</td>\n",
       "      <td>2016855</td>\n",
       "      <td>112789</td>\n",
       "      <td>0.0559232</td>\n",
       "      <td>0.492017</td>\n",
       "      <td>45.0</td>\n",
       "    </tr>\n",
       "  </tbody>\n",
       "</table>\n",
       "</div>"
      ],
      "text/plain": [
       "    Country Year  GDP/capita   PopMale  PopFemale  PopTotal continentExp  \\\n",
       "110     USA  NaN     62795.0  161480.0   168080.0  328200.0      America   \n",
       "\n",
       "    total_cases total_deaths mortality/country  male_pop_percentage  giniIndex  \n",
       "110     2016855       112789         0.0559232             0.492017       45.0  "
      ]
     },
     "execution_count": 30,
     "metadata": {},
     "output_type": "execute_result"
    }
   ],
   "source": [
    "test_usa = Data['Country'].str.contains('USA')\n",
    "Data[test_usa]"
   ]
  },
  {
   "cell_type": "code",
   "execution_count": 31,
   "metadata": {},
   "outputs": [],
   "source": [
    "del Data['Year']"
   ]
  },
  {
   "cell_type": "code",
   "execution_count": 32,
   "metadata": {},
   "outputs": [
    {
     "data": {
      "text/plain": [
       "Country                False\n",
       "GDP/capita             False\n",
       "PopMale                False\n",
       "PopFemale              False\n",
       "PopTotal               False\n",
       "continentExp           False\n",
       "total_cases            False\n",
       "total_deaths           False\n",
       "mortality/country      False\n",
       "male_pop_percentage    False\n",
       "giniIndex              False\n",
       "dtype: bool"
      ]
     },
     "execution_count": 32,
     "metadata": {},
     "output_type": "execute_result"
    }
   ],
   "source": [
    "Data.isnull().any()\n",
    "#Data.dropna"
   ]
  },
  {
   "cell_type": "code",
   "execution_count": 33,
   "metadata": {},
   "outputs": [],
   "source": [
    "#Visualizing the Data"
   ]
  },
  {
   "cell_type": "code",
   "execution_count": 34,
   "metadata": {},
   "outputs": [],
   "source": [
    "continent = {'Asia':'red',\n",
    "             'Europe':'green',\n",
    "             'Africa':'blue',\n",
    "             'America':'yellow',\n",
    "             'Oceania': 'black'}\n",
    "\n",
    "col = Data['continentExp']"
   ]
  },
  {
   "cell_type": "code",
   "execution_count": 35,
   "metadata": {},
   "outputs": [],
   "source": [
    "np_pop = np.array(Data['PopTotal'])/500\n",
    "Data = Data.reset_index(drop=True)"
   ]
  },
  {
   "cell_type": "code",
   "execution_count": 36,
   "metadata": {},
   "outputs": [],
   "source": [
    "#The size of the data point will be the country population, and the color will indicate to which continent it belongs."
   ]
  },
  {
   "cell_type": "code",
   "execution_count": 37,
   "metadata": {},
   "outputs": [
    {
     "data": {
      "image/png": "[encoded data removed]",
      "text/plain": [
       "<Figure size 1080x576 with 1 Axes>"
      ]
     },
     "metadata": {
      "needs_background": "light"
     },
     "output_type": "display_data"
    }
   ],
   "source": [
    "#Figure size\n",
    "plt.figure(figsize=(15,8))\n",
    "\n",
    "#Graph kind (x, y, size)\n",
    "plt.scatter(Data['GDP/capita'], Data['mortality/country'], s=np_pop, c=[continent[i] for i in col], alpha=0.9)\n",
    "\n",
    "#Grid\n",
    "plt.grid(True)\n",
    "\n",
    "#Graph scale\n",
    "plt.xscale('log')\n",
    "\n",
    "#Labels\n",
    "xlab = 'GDP per capita'\n",
    "ylab = 'Mortality rate'\n",
    "title = 'Covid-19 mortality rate by GDP'\n",
    "\n",
    "plt.xlabel(xlab)\n",
    "plt.ylabel(ylab)\n",
    "plt.title(title)\n",
    "plt.ylim([0, 0.2])\n",
    "\n",
    "#Ticks\n",
    "tick_val = [500, 1000, 3000, 5000, 10000, 20000, 40000, 60000, 80000, 100000, 120000]\n",
    "tick_lab = ['500', '1k', '3k', '5k', '10k', '20k', '40k', '60k', '80k', '100k', '120k']\n",
    "plt.xticks(tick_val, tick_lab)\n",
    "\n",
    "#plt.plot(X, Y_pred, color='black')\n",
    "\n",
    "plt.show()"
   ]
  },
  {
   "cell_type": "markdown",
   "metadata": {},
   "source": [
    "From the graph above, we can see that the mortality rate rises as the GDP increases.\n",
    "As the countries are in different stages of the pandemic, it is early to tell exactly why that happens and it \n",
    "still might change. But one possible explanation is that the number of people in the risk group due to old age\n",
    "is considerably higher in countries with higher GDPs, as they also have a higher life expectancy."
   ]
  },
  {
   "cell_type": "code",
   "execution_count": 38,
   "metadata": {},
   "outputs": [
    {
     "data": {
      "image/png": "[encoded data removed]",
      "text/plain": [
       "<Figure size 1080x576 with 1 Axes>"
      ]
     },
     "metadata": {
      "needs_background": "light"
     },
     "output_type": "display_data"
    }
   ],
   "source": [
    "#Figure size\n",
    "plt.figure(figsize=(15,8))\n",
    "\n",
    "#Graph kind (x, y, size)\n",
    "plt.scatter(Data['giniIndex'], Data['mortality/country'], s=np_pop, c=[continent[i] for i in col], alpha=0.8)\n",
    "\n",
    "#Grid\n",
    "plt.grid(True)\n",
    "\n",
    "#Graph scale\n",
    "#plt.xscale('log')\n",
    "\n",
    "#Labels\n",
    "xlab = 'gini index'\n",
    "ylab = 'mortality rate'\n",
    "title = 'Covid-19 mortality rate by gene index'\n",
    "\n",
    "plt.xlabel(xlab)\n",
    "plt.ylabel(ylab)\n",
    "plt.title(title)\n",
    "plt.ylim([0, 0.2])\n",
    "\n",
    "#Ticks\n",
    "tick_val_x = list(range(20,61,5))\n",
    "plt.xticks(tick_val_x)\n",
    "\n",
    "\n",
    "plt.show()"
   ]
  },
  {
   "cell_type": "markdown",
   "metadata": {},
   "source": [
    "The gini index is a coefficient that evaluates the wealth distribution in a country. The higher its value, the higher\n",
    "the inequality in a given country. \n",
    "Again, at this stage of the pandemic it might be too early to tell for sure if the data is accurate,\n",
    "but it is interesting to check how the graph's behavior will change once the pandemic has stabilized everywhere.\n",
    "We can see that many European countries (in green) are leading the mortality rate in spite of their lower gini index."
   ]
  },
  {
   "cell_type": "markdown",
   "metadata": {},
   "source": [
    "# Testing a machine learning classification algorithm"
   ]
  },
  {
   "cell_type": "code",
   "execution_count": 39,
   "metadata": {},
   "outputs": [],
   "source": [
    "from sklearn.metrics import accuracy_score\n",
    "from sklearn.model_selection import train_test_split\n",
    "from sklearn.tree import DecisionTreeClassifier"
   ]
  },
  {
   "cell_type": "code",
   "execution_count": 40,
   "metadata": {},
   "outputs": [],
   "source": [
    "Data['high_mortality'] = (Data['mortality/country'] > 0.1)*1\n",
    "y = Data['high_mortality'].copy()\n",
    "class_features = ['GDP/capita', 'PopTotal']\n",
    "x = Data[class_features].copy()"
   ]
  },
  {
   "cell_type": "code",
   "execution_count": 41,
   "metadata": {},
   "outputs": [],
   "source": [
    "x_train, x_test, y_train, y_test = train_test_split(x, y, test_size=0.33, random_state=324)"
   ]
  },
  {
   "cell_type": "code",
   "execution_count": 42,
   "metadata": {},
   "outputs": [
    {
     "data": {
      "text/plain": [
       "DecisionTreeClassifier(ccp_alpha=0.0, class_weight=None, criterion='gini',\n",
       "                       max_depth=None, max_features=None, max_leaf_nodes=15,\n",
       "                       min_impurity_decrease=0.0, min_impurity_split=None,\n",
       "                       min_samples_leaf=1, min_samples_split=2,\n",
       "                       min_weight_fraction_leaf=0.0, presort='deprecated',\n",
       "                       random_state=0, splitter='best')"
      ]
     },
     "execution_count": 42,
     "metadata": {},
     "output_type": "execute_result"
    }
   ],
   "source": [
    "mortality_classifier = DecisionTreeClassifier(max_leaf_nodes=15, random_state=0)\n",
    "mortality_classifier.fit(x_train, y_train)"
   ]
  },
  {
   "cell_type": "code",
   "execution_count": 43,
   "metadata": {},
   "outputs": [
    {
     "data": {
      "text/plain": [
       "array([1, 1, 0, 1, 0, 0, 0, 0, 0, 0, 0, 0, 0, 0, 1, 0, 0, 0, 0, 0, 1, 0,\n",
       "       0, 1, 0, 0, 0, 0, 0, 0, 0, 0, 0, 0, 0, 1, 0])"
      ]
     },
     "execution_count": 43,
     "metadata": {},
     "output_type": "execute_result"
    }
   ],
   "source": [
    "predictions = mortality_classifier.predict(x_test)\n",
    "predictions"
   ]
  },
  {
   "cell_type": "code",
   "execution_count": 46,
   "metadata": {},
   "outputs": [
    {
     "data": {
      "text/plain": [
       "19     0\n",
       "5      0\n",
       "18     0\n",
       "36     0\n",
       "55     0\n",
       "11     0\n",
       "94     0\n",
       "4      0\n",
       "61     0\n",
       "41     0\n",
       "85     0\n",
       "57     0\n",
       "101    0\n",
       "69     0\n",
       "33     1\n",
       "54     0\n",
       "93     0\n",
       "8      0\n",
       "62     0\n",
       "49     0\n",
       "6      0\n",
       "105    0\n",
       "87     0\n",
       "77     1\n",
       "39     0\n",
       "27     0\n",
       "103    0\n",
       "65     0\n",
       "95     0\n",
       "22     0\n",
       "89     0\n",
       "100    0\n",
       "20     0\n",
       "51     0\n",
       "43     0\n",
       "98     0\n",
       "104    0\n",
       "Name: high_mortality, dtype: int32"
      ]
     },
     "execution_count": 46,
     "metadata": {},
     "output_type": "execute_result"
    }
   ],
   "source": [
    "y_test"
   ]
  },
  {
   "cell_type": "code",
   "execution_count": 44,
   "metadata": {},
   "outputs": [
    {
     "data": {
      "text/plain": [
       "0.8648648648648649"
      ]
     },
     "execution_count": 44,
     "metadata": {},
     "output_type": "execute_result"
    }
   ],
   "source": [
    "accuracy_score(y_true = y_test, y_pred = predictions)"
   ]
  },
  {
   "cell_type": "code",
   "execution_count": 45,
   "metadata": {},
   "outputs": [
    {
     "data": {
      "text/plain": [
       "0    103\n",
       "1      8\n",
       "Name: high_mortality, dtype: int64"
      ]
     },
     "execution_count": 45,
     "metadata": {},
     "output_type": "execute_result"
    }
   ],
   "source": [
    "Data['high_mortality'].value_counts()"
   ]
  },
  {
   "cell_type": "code",
   "execution_count": 50,
   "metadata": {},
   "outputs": [
    {
     "data": {
      "text/plain": [
       "7"
      ]
     },
     "execution_count": 50,
     "metadata": {},
     "output_type": "execute_result"
    }
   ],
   "source": [
    "np.count_nonzero(predictions)"
   ]
  },
  {
   "cell_type": "markdown",
   "metadata": {},
   "source": [
    "# Testing a Regression algorithm"
   ]
  },
  {
   "cell_type": "code",
   "execution_count": 51,
   "metadata": {},
   "outputs": [],
   "source": [
    "import sqlite3\n",
    "from sklearn.tree import DecisionTreeRegressor\n",
    "from sklearn.linear_model import LinearRegression\n",
    "from sklearn.model_selection import train_test_split\n",
    "from sklearn.metrics import mean_squared_error\n",
    "from math import sqrt"
   ]
  },
  {
   "cell_type": "code",
   "execution_count": 52,
   "metadata": {},
   "outputs": [],
   "source": [
    "regression_features = ['GDP/capita', 'giniIndex']\n",
    "X = Data[regression_features]"
   ]
  },
  {
   "cell_type": "code",
   "execution_count": 53,
   "metadata": {},
   "outputs": [],
   "source": [
    "target = ['mortality/country']\n",
    "Y = Data[target]"
   ]
  },
  {
   "cell_type": "code",
   "execution_count": 54,
   "metadata": {},
   "outputs": [],
   "source": [
    "X_train, X_test, Y_train, Y_test = train_test_split(X, Y, test_size=0.33, random_state=324)"
   ]
  },
  {
   "cell_type": "code",
   "execution_count": 55,
   "metadata": {},
   "outputs": [
    {
     "data": {
      "text/plain": [
       "LinearRegression(copy_X=True, fit_intercept=True, n_jobs=None, normalize=False)"
      ]
     },
     "execution_count": 55,
     "metadata": {},
     "output_type": "execute_result"
    }
   ],
   "source": [
    "regressor = LinearRegression()\n",
    "regressor.fit(X_train, Y_train)"
   ]
  },
  {
   "cell_type": "code",
   "execution_count": 56,
   "metadata": {},
   "outputs": [
    {
     "data": {
      "text/plain": [
       "array([[0.06261393],\n",
       "       [0.06435541],\n",
       "       [0.02293578],\n",
       "       [0.06710965],\n",
       "       [0.01991972],\n",
       "       [0.02762324],\n",
       "       [0.05795798],\n",
       "       [0.03624072],\n",
       "       [0.10203019],\n",
       "       [0.02603126],\n",
       "       [0.02919252],\n",
       "       [0.04651694],\n",
       "       [0.0204829 ],\n",
       "       [0.04190719],\n",
       "       [0.06046028],\n",
       "       [0.05149689],\n",
       "       [0.08451834],\n",
       "       [0.03181707],\n",
       "       [0.02397686],\n",
       "       [0.04683646],\n",
       "       [0.06481453],\n",
       "       [0.03976637],\n",
       "       [0.05074712],\n",
       "       [0.06726357],\n",
       "       [0.02013578],\n",
       "       [0.06681326],\n",
       "       [0.04257204],\n",
       "       [0.03626944],\n",
       "       [0.05841479],\n",
       "       [0.0306879 ],\n",
       "       [0.05023145],\n",
       "       [0.03282648],\n",
       "       [0.02263245],\n",
       "       [0.03333606],\n",
       "       [0.02207877],\n",
       "       [0.07462162],\n",
       "       [0.02524201]])"
      ]
     },
     "execution_count": 56,
     "metadata": {},
     "output_type": "execute_result"
    }
   ],
   "source": [
    "Y_prediction = regressor.predict(X_test)\n",
    "Y_prediction"
   ]
  },
  {
   "cell_type": "code",
   "execution_count": 57,
   "metadata": {},
   "outputs": [
    {
     "name": "stdout",
     "output_type": "stream",
     "text": [
      "0.0384925966715144\n"
     ]
    }
   ],
   "source": [
    "RMSE = sqrt(mean_squared_error(y_true = Y_test, y_pred = Y_prediction))\n",
    "print(RMSE)"
   ]
  },
  {
   "cell_type": "code",
   "execution_count": 58,
   "metadata": {},
   "outputs": [
    {
     "data": {
      "text/plain": [
       "DecisionTreeRegressor(ccp_alpha=0.0, criterion='mse', max_depth=20,\n",
       "                      max_features=None, max_leaf_nodes=None,\n",
       "                      min_impurity_decrease=0.0, min_impurity_split=None,\n",
       "                      min_samples_leaf=1, min_samples_split=2,\n",
       "                      min_weight_fraction_leaf=0.0, presort='deprecated',\n",
       "                      random_state=None, splitter='best')"
      ]
     },
     "execution_count": 58,
     "metadata": {},
     "output_type": "execute_result"
    }
   ],
   "source": [
    "regressor = DecisionTreeRegressor(max_depth=20)\n",
    "regressor.fit(X_train, Y_train)"
   ]
  },
  {
   "cell_type": "code",
   "execution_count": 59,
   "metadata": {},
   "outputs": [
    {
     "data": {
      "text/plain": [
       "array([0.14396209, 0.14396209, 0.04827789, 0.04659239, 0.02804793,\n",
       "       0.00403531, 0.16247214, 0.02799312, 0.06618407, 0.04827789,\n",
       "       0.02126005, 0.06094654, 0.01017812, 0.06094654, 0.13631765,\n",
       "       0.04659239, 0.05592321, 0.01127753, 0.01687764, 0.01442911,\n",
       "       0.14396209, 0.16247214, 0.14396209, 0.14396209, 0.01012891,\n",
       "       0.13631765, 0.05686654, 0.02126005, 0.16247214, 0.05532401,\n",
       "       0.04659239, 0.0071066 , 0.01687764, 0.02799312, 0.0411449 ,\n",
       "       0.06618407, 0.00576297])"
      ]
     },
     "execution_count": 59,
     "metadata": {},
     "output_type": "execute_result"
    }
   ],
   "source": [
    "Y_prediction2 = regressor.predict(X_test)\n",
    "Y_prediction2"
   ]
  },
  {
   "cell_type": "code",
   "execution_count": 60,
   "metadata": {},
   "outputs": [
    {
     "name": "stdout",
     "output_type": "stream",
     "text": [
      "0.05588612916461391\n"
     ]
    }
   ],
   "source": [
    "RMSE = sqrt(mean_squared_error(y_true = Y_test, y_pred = Y_prediction2))\n",
    "print(RMSE)"
   ]
  }
 ],
 "metadata": {
  "kernelspec": {
   "display_name": "Python 3",
   "language": "python",
   "name": "python3"
  },
  "language_info": {
   "codemirror_mode": {
    "name": "ipython",
    "version": 3
   },
   "file_extension": ".py",
   "mimetype": "text/x-python",
   "name": "python",
   "nbconvert_exporter": "python",
   "pygments_lexer": "ipython3",
   "version": "3.7.6"
  }
 },
 "nbformat": 4,
 "nbformat_minor": 4
}
